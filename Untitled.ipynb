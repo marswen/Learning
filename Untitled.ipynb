{
 "cells": [
  {
   "cell_type": "markdown",
   "metadata": {},
   "source": [
    "# xlrd"
   ]
  },
  {
   "cell_type": "code",
   "execution_count": 1,
   "metadata": {},
   "outputs": [],
   "source": [
    "import xlrd"
   ]
  },
  {
   "cell_type": "code",
   "execution_count": 61,
   "metadata": {},
   "outputs": [
    {
     "name": "stdout",
     "output_type": "stream",
     "text": [
      "['Tabelle1', 'Sheet1']\n"
     ]
    }
   ],
   "source": [
    "workbook = xlrd.open_workbook(r'demo.xlsx')\n",
    "\n",
    "sheet_names = workbook.sheet_names()\n",
    "\n",
    "print (sheet_names)"
   ]
  },
  {
   "cell_type": "code",
   "execution_count": 27,
   "metadata": {},
   "outputs": [
    {
     "name": "stdout",
     "output_type": "stream",
     "text": [
      "Sheet1\n"
     ]
    }
   ],
   "source": [
    "sheet2_name = workbook.sheet_names()[1]\n",
    "\n",
    "print (sheet2_name)"
   ]
  },
  {
   "cell_type": "code",
   "execution_count": 26,
   "metadata": {},
   "outputs": [
    {
     "name": "stdout",
     "output_type": "stream",
     "text": [
      "Tabelle1 11 5\n"
     ]
    }
   ],
   "source": [
    "sheet1 = workbook.sheet_by_index(0) # Index start from 0\n",
    "\n",
    "sheet2 = workbook.sheet_by_name('Sheet1')\n",
    "\n",
    "sheet1_name = sheet1.name\n",
    "\n",
    "sheet2_nrow = sheet2.nrows\n",
    "\n",
    "sheet2_ncol = sheet2.ncols\n",
    "\n",
    "print (sheet1_name, sheet2_nrow, sheet2_ncol)"
   ]
  },
  {
   "cell_type": "code",
   "execution_count": 29,
   "metadata": {},
   "outputs": [
    {
     "name": "stdout",
     "output_type": "stream",
     "text": [
      "['A', 'B', 'C', 'D', 'E']\n",
      "['C', 1.0, 2.0, 3.0, 4.0, 5.0, 6.0, 7.0, 8.0, 9.0, 10.0]\n"
     ]
    }
   ],
   "source": [
    "rowvalues = sheet1.row_values(0)\n",
    "\n",
    "colvalues = sheet2.col_values(2)\n",
    "\n",
    "print (rowvalues)\n",
    "\n",
    "print (colvalues)"
   ]
  },
  {
   "cell_type": "code",
   "execution_count": 30,
   "metadata": {},
   "outputs": [
    {
     "name": "stdout",
     "output_type": "stream",
     "text": [
      "b'A'\n",
      "1.0\n",
      "1.0\n",
      "2\n"
     ]
    }
   ],
   "source": [
    "cell1 = sheet2.cell(0,0).value.encode('utf-8')\n",
    "\n",
    "cell2 = sheet2.cell_value(1,0)\n",
    "\n",
    "cell3 = sheet2.row(1)[0].value\n",
    "\n",
    "cell_type = sheet2.cell(1,0).ctype\n",
    "\n",
    "print (cell1)\n",
    "\n",
    "print (cell2)\n",
    "\n",
    "print (cell3)\n",
    "\n",
    "print (cell_type)"
   ]
  },
  {
   "cell_type": "code",
   "execution_count": 66,
   "metadata": {},
   "outputs": [],
   "source": [
    "from datetime import datetime,date\n",
    "for r in range(sheet2_nrow):\n",
    "    for c in range(sheet2_ncol):\n",
    "        if sheet1.cell(r,c).ctype == 3:\n",
    "            date_value = xlrd.xldate.xldate_as_tuple(sheet1.cell_value(10,0),workbook.datemode)"
   ]
  },
  {
   "cell_type": "markdown",
   "metadata": {},
   "source": [
    "# xlwt"
   ]
  },
  {
   "cell_type": "code",
   "execution_count": 14,
   "metadata": {},
   "outputs": [],
   "source": [
    "import xlwt"
   ]
  },
  {
   "cell_type": "code",
   "execution_count": 67,
   "metadata": {},
   "outputs": [],
   "source": [
    "f = xlwt.Workbook(encoding = 'utf-8')\n",
    "\n",
    "sheet1 = f.add_sheet(u'Sheet1',cell_overwrite_ok=True)"
   ]
  },
  {
   "cell_type": "code",
   "execution_count": 70,
   "metadata": {},
   "outputs": [],
   "source": [
    "sheet1.write(1,0, label = 'this is test')\n",
    "\n",
    "f.save('Excel_test.xls')"
   ]
  },
  {
   "cell_type": "code",
   "execution_count": null,
   "metadata": {},
   "outputs": [],
   "source": [
    "def set_style(name,height,bold=False):\n",
    "  style = xlwt.XFStyle() # 初始化样式\n",
    " \n",
    "  font = xlwt.Font() # 为样式创建字体\n",
    "  font.name = name # 'Times New Roman'\n",
    "  font.bold = bold\n",
    "  font.color_index = 4\n",
    "  font.height = height\n",
    " \n",
    "  # borders= xlwt.Borders()\n",
    "  # borders.left= 6\n",
    "  # borders.right= 6\n",
    "  # borders.top= 6\n",
    "  # borders.bottom= 6\n",
    " \n",
    "  style.font = font\n",
    "  # style.borders = borders\n",
    " \n",
    "  return style\n",
    " \n",
    " \n",
    "#写excel\n",
    "def write_excel():\n",
    "  f = xlwt.Workbook() #创建工作簿\n",
    " \n",
    "  '''\n",
    "  创建第一个sheet:\n",
    "    sheet1\n",
    "  '''\n",
    "  sheet1 = f.add_sheet(u'sheet1',cell_overwrite_ok=True) #创建sheet\n",
    "  row0 = [u'业务',u'状态',u'北京',u'上海',u'广州',u'深圳',u'状态小计',u'合计']\n",
    "  column0 = [u'机票',u'船票',u'火车票',u'汽车票',u'其它']\n",
    "  status = [u'预订',u'出票',u'退票',u'业务小计']\n",
    " \n",
    "  #生成第一行\n",
    "  for i in range(0,len(row0)):\n",
    "    sheet1.write(0,i,row0[i],set_style('Times New Roman',220,True))\n",
    " \n",
    "  #生成第一列和最后一列(合并4行)\n",
    "  i, j = 1, 0\n",
    "  while i < 4*len(column0) and j < len(column0):\n",
    "    sheet1.write_merge(i,i+3,0,0,column0[j],set_style('Arial',220,True)) #第一列\n",
    "    sheet1.write_merge(i,i+3,7,7) #最后一列\"合计\"\n",
    "    i += 4\n",
    "    j += 1\n",
    " \n",
    "  sheet1.write_merge(21,21,0,1,u'合计',set_style('Times New Roman',220,True))\n",
    " \n",
    "  #生成第二列\n",
    "  i = 0\n",
    "  while i < 4*len(column0):\n",
    "    for j in range(0,len(status)):\n",
    "      sheet1.write(j+i+1,1,status[j])\n",
    "    i += 4\n",
    " \n",
    "  f.save('demo1.xlsx') #保存文件\n",
    " \n",
    "if __name__ == '__main__':\n",
    "  #generate_workbook()\n",
    "  #read_excel()\n",
    "  write_excel()"
   ]
  }
 ],
 "metadata": {
  "kernelspec": {
   "display_name": "Python 3",
   "language": "python",
   "name": "python3"
  },
  "language_info": {
   "codemirror_mode": {
    "name": "ipython",
    "version": 3
   },
   "file_extension": ".py",
   "mimetype": "text/x-python",
   "name": "python",
   "nbconvert_exporter": "python",
   "pygments_lexer": "ipython3",
   "version": "3.6.5"
  }
 },
 "nbformat": 4,
 "nbformat_minor": 2
}
