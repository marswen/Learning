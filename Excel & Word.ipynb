{
 "cells": [
  {
   "cell_type": "markdown",
   "metadata": {},
   "source": [
    "# xlrd"
   ]
  },
  {
   "cell_type": "code",
   "execution_count": 1,
   "metadata": {},
   "outputs": [],
   "source": [
    "import xlrd"
   ]
  },
  {
   "cell_type": "code",
   "execution_count": 61,
   "metadata": {},
   "outputs": [
    {
     "name": "stdout",
     "output_type": "stream",
     "text": [
      "['Tabelle1', 'Sheet1']\n"
     ]
    }
   ],
   "source": [
    "workbook = xlrd.open_workbook(r'demo.xlsx')\n",
    "\n",
    "sheet_names = workbook.sheet_names()\n",
    "\n",
    "print (sheet_names)"
   ]
  },
  {
   "cell_type": "code",
   "execution_count": 27,
   "metadata": {},
   "outputs": [
    {
     "name": "stdout",
     "output_type": "stream",
     "text": [
      "Sheet1\n"
     ]
    }
   ],
   "source": [
    "sheet2_name = workbook.sheet_names()[1]\n",
    "\n",
    "print (sheet2_name)"
   ]
  },
  {
   "cell_type": "code",
   "execution_count": 26,
   "metadata": {},
   "outputs": [
    {
     "name": "stdout",
     "output_type": "stream",
     "text": [
      "Tabelle1 11 5\n"
     ]
    }
   ],
   "source": [
    "sheet1 = workbook.sheet_by_index(0) # Index start from 0\n",
    "\n",
    "sheet2 = workbook.sheet_by_name('Sheet1')\n",
    "\n",
    "sheet1_name = sheet1.name\n",
    "\n",
    "sheet2_nrow = sheet2.nrows\n",
    "\n",
    "sheet2_ncol = sheet2.ncols\n",
    "\n",
    "print (sheet1_name, sheet2_nrow, sheet2_ncol)"
   ]
  },
  {
   "cell_type": "code",
   "execution_count": 29,
   "metadata": {},
   "outputs": [
    {
     "name": "stdout",
     "output_type": "stream",
     "text": [
      "['A', 'B', 'C', 'D', 'E']\n",
      "['C', 1.0, 2.0, 3.0, 4.0, 5.0, 6.0, 7.0, 8.0, 9.0, 10.0]\n"
     ]
    }
   ],
   "source": [
    "rowvalues = sheet1.row_values(0)\n",
    "\n",
    "colvalues = sheet2.col_values(2)\n",
    "\n",
    "print (rowvalues)\n",
    "\n",
    "print (colvalues)"
   ]
  },
  {
   "cell_type": "code",
   "execution_count": 30,
   "metadata": {},
   "outputs": [
    {
     "name": "stdout",
     "output_type": "stream",
     "text": [
      "b'A'\n",
      "1.0\n",
      "1.0\n",
      "2\n"
     ]
    }
   ],
   "source": [
    "cell1 = sheet2.cell(0,0).value.encode('utf-8')\n",
    "\n",
    "cell2 = sheet2.cell_value(1,0)\n",
    "\n",
    "cell3 = sheet2.row(1)[0].value\n",
    "\n",
    "cell_type = sheet2.cell(1,0).ctype\n",
    "\n",
    "print (cell1)\n",
    "\n",
    "print (cell2)\n",
    "\n",
    "print (cell3)\n",
    "\n",
    "print (cell_type)"
   ]
  },
  {
   "cell_type": "code",
   "execution_count": 66,
   "metadata": {},
   "outputs": [],
   "source": [
    "from datetime import datetime,date\n",
    "for r in range(sheet2_nrow):\n",
    "    for c in range(sheet2_ncol):\n",
    "        if sheet1.cell(r,c).ctype == 3:\n",
    "            date_value = xlrd.xldate.xldate_as_tuple(sheet1.cell_value(10,0),workbook.datemode)"
   ]
  },
  {
   "cell_type": "markdown",
   "metadata": {},
   "source": [
    "# xlwt"
   ]
  },
  {
   "cell_type": "code",
   "execution_count": 3,
   "metadata": {},
   "outputs": [],
   "source": [
    "import xlwt"
   ]
  },
  {
   "cell_type": "code",
   "execution_count": 4,
   "metadata": {},
   "outputs": [],
   "source": [
    "f = xlwt.Workbook(encoding = 'utf-8')\n",
    "\n",
    "sheet1 = f.add_sheet(u'Sheet1',cell_overwrite_ok=True)"
   ]
  },
  {
   "cell_type": "code",
   "execution_count": 5,
   "metadata": {},
   "outputs": [],
   "source": [
    "def set_style(fontname, height, bold=False):\n",
    "    \n",
    "    style = xlwt.XFStyle()\n",
    "\n",
    "    font = xlwt.Font()\n",
    "    font.name = fontname\n",
    "    font.bold = bold\n",
    "    font.color_index = 4\n",
    "    font.height = height\n",
    "\n",
    "    borders= xlwt.Borders()\n",
    "    borders.left= 6\n",
    "    borders.right= 6\n",
    "    borders.top= 6\n",
    "    borders.bottom= 6\n",
    "\n",
    "    style.font = font\n",
    "    style.borders = borders\n",
    "\n",
    "    return style"
   ]
  },
  {
   "cell_type": "code",
   "execution_count": 6,
   "metadata": {},
   "outputs": [],
   "source": [
    "sheet1.write(1,0, label = 'this is test')\n",
    "\n",
    "sheet1.write_merge(2, 5, 0, 0, 'Test content',set_style('Arial',220,True))\n",
    "\n",
    "f.save('Excel_test.xls')"
   ]
  },
  {
   "cell_type": "markdown",
   "metadata": {},
   "source": [
    "# openpyxl"
   ]
  },
  {
   "cell_type": "code",
   "execution_count": 7,
   "metadata": {},
   "outputs": [],
   "source": [
    "import openpyxl"
   ]
  },
  {
   "cell_type": "code",
   "execution_count": 9,
   "metadata": {},
   "outputs": [],
   "source": [
    "# New workbook\n",
    "workbook1 = openpyxl.Workbook('hello.xlsx')"
   ]
  },
  {
   "cell_type": "code",
   "execution_count": 10,
   "metadata": {},
   "outputs": [],
   "source": [
    "# Open workbook\n",
    "workbook2 = openpyxl.load_workbook('demo.xlsx')"
   ]
  },
  {
   "cell_type": "code",
   "execution_count": 14,
   "metadata": {},
   "outputs": [
    {
     "name": "stdout",
     "output_type": "stream",
     "text": [
      "<Worksheet \"工作表1\">\n"
     ]
    }
   ],
   "source": [
    "sheetactive = workbook2.active\n",
    "\n",
    "print (sheet1)"
   ]
  },
  {
   "cell_type": "code",
   "execution_count": 16,
   "metadata": {},
   "outputs": [],
   "source": [
    "sheet_list = workbook2.worksheets"
   ]
  },
  {
   "cell_type": "code",
   "execution_count": 17,
   "metadata": {},
   "outputs": [
    {
     "name": "stdout",
     "output_type": "stream",
     "text": [
      "['工作表1']\n"
     ]
    }
   ],
   "source": [
    "sheet_names = workbook2.sheetnames\n",
    "\n",
    "print (sheet_names)"
   ]
  },
  {
   "cell_type": "code",
   "execution_count": 18,
   "metadata": {},
   "outputs": [],
   "source": [
    "sheet1 = workbook2['工作表1']"
   ]
  },
  {
   "cell_type": "code",
   "execution_count": 40,
   "metadata": {},
   "outputs": [],
   "source": [
    "sheet2 = workbook2.create_sheet"
   ]
  },
  {
   "cell_type": "code",
   "execution_count": 24,
   "metadata": {},
   "outputs": [],
   "source": [
    "sheet2 = workbook2.copy_worksheet"
   ]
  },
  {
   "cell_type": "code",
   "execution_count": 22,
   "metadata": {},
   "outputs": [],
   "source": [
    "sheet2 = workbook2.remove_sheet"
   ]
  },
  {
   "cell_type": "code",
   "execution_count": 32,
   "metadata": {},
   "outputs": [
    {
     "name": "stdout",
     "output_type": "stream",
     "text": [
      "工作表1\n",
      "A1:E6\n",
      "6\n",
      "5\n",
      "1\n",
      "1\n"
     ]
    }
   ],
   "source": [
    "print (sheet1.title)\n",
    "print (sheet1.dimensions)\n",
    "print (sheet1.max_row)\n",
    "print (sheet1.max_column)\n",
    "print (sheet1.min_row)\n",
    "print (sheet1.min_column)"
   ]
  },
  {
   "cell_type": "code",
   "execution_count": 50,
   "metadata": {},
   "outputs": [
    {
     "name": "stdout",
     "output_type": "stream",
     "text": [
      "1\n",
      "<Cell '工作表1'.C2>\n"
     ]
    }
   ],
   "source": [
    "print (sheet1['A2'].value)\n",
    "\n",
    "print (sheet1.cell(row=2, column=3))"
   ]
  },
  {
   "cell_type": "code",
   "execution_count": 76,
   "metadata": {
    "scrolled": false
   },
   "outputs": [
    {
     "name": "stdout",
     "output_type": "stream",
     "text": [
      "<generator object Worksheet._cells_by_row at 0x00000122D7A73E60>\n",
      "<generator object Worksheet._cells_by_col at 0x00000122D7A7F830>\n"
     ]
    }
   ],
   "source": [
    "sheet1['B3'] = 45\n",
    "sheet1.append([5,3,4,5,6])\n",
    "cell_range = sheet1['A1':'C2']\n",
    "rows = sheet1.iter_rows()\n",
    "print (rows)\n",
    "cols = sheet1.columns\n",
    "print (cols)\n",
    "values = sheet1.values\n",
    "for row in rows:\n",
    "    for cell in row:\n",
    "        cell.value = 1"
   ]
  },
  {
   "cell_type": "code",
   "execution_count": 75,
   "metadata": {},
   "outputs": [
    {
     "name": "stdout",
     "output_type": "stream",
     "text": [
      "1\n",
      "1\n",
      "A\n",
      "A1\n"
     ]
    }
   ],
   "source": [
    "cell = sheet1['A1']\n",
    "print (cell.value)\n",
    "print (cell.row)\n",
    "print (cell.column)\n",
    "print (cell.coordinate)"
   ]
  },
  {
   "cell_type": "code",
   "execution_count": null,
   "metadata": {},
   "outputs": [],
   "source": [
    "workbook2.save('hello.xlsx')"
   ]
  },
  {
   "cell_type": "markdown",
   "metadata": {},
   "source": [
    "# python-docx"
   ]
  },
  {
   "cell_type": "code",
   "execution_count": 79,
   "metadata": {
    "scrolled": true
   },
   "outputs": [],
   "source": [
    "from docx import Document\n",
    "from docx.shared import Pt"
   ]
  },
  {
   "cell_type": "code",
   "execution_count": 82,
   "metadata": {},
   "outputs": [
    {
     "name": "stderr",
     "output_type": "stream",
     "text": [
      "C:\\ProgramData\\Anaconda3\\lib\\site-packages\\docx\\styles\\styles.py:143: UserWarning: style lookup by style_id is deprecated. Use style name as key instead.\n",
      "  return self._get_style_id_from_style(self[style_name], style_type)\n"
     ]
    }
   ],
   "source": [
    "# New\n",
    "document = Document()\n",
    "document.add_heading('The role of dolphins', level=2)\n",
    "paragraph = document.add_paragraph('Lorem ipsum dolor sit amet.', style='ListBullet')\n",
    "prior_paragraph = paragraph.insert_paragraph_before('Lorem ipsum') # before the paragragh\n",
    "run = paragraph.add_run('dolor sit amet.') # after the paragragh\n",
    "run.bold = True\n",
    "run.italic = True"
   ]
  },
  {
   "cell_type": "code",
   "execution_count": 83,
   "metadata": {},
   "outputs": [],
   "source": [
    "table = document.add_table(rows=2, cols=2)\n",
    "cell = table.cell(0, 1)\n",
    "cell.text = 'parrot, possibly dead'\n",
    "row = table.rows[1]\n",
    "row.cells[0].text = 'Foo bar to you.'\n",
    "row = table.add_row()\n",
    "cells = table.add_row().cells\n",
    "cells[0].text = 'haha'"
   ]
  },
  {
   "cell_type": "code",
   "execution_count": 84,
   "metadata": {},
   "outputs": [],
   "source": [
    "def stylish(cell, size, bold = True):\n",
    "    paragraph = cell.paragraphs[0]\n",
    "    run = paragraph.runs\n",
    "    font = run[0].font\n",
    "    font.name = '微软雅黑'\n",
    "    font.size= Pt(size)\n",
    "    font.bold = bold"
   ]
  },
  {
   "cell_type": "code",
   "execution_count": 96,
   "metadata": {},
   "outputs": [],
   "source": [
    "document = Document('demo.docx')\n",
    "document.save('demo1.docx')"
   ]
  }
 ],
 "metadata": {
  "kernelspec": {
   "display_name": "Python 3",
   "language": "python",
   "name": "python3"
  },
  "language_info": {
   "codemirror_mode": {
    "name": "ipython",
    "version": 3
   },
   "file_extension": ".py",
   "mimetype": "text/x-python",
   "name": "python",
   "nbconvert_exporter": "python",
   "pygments_lexer": "ipython3",
   "version": "3.6.5"
  }
 },
 "nbformat": 4,
 "nbformat_minor": 2
}
